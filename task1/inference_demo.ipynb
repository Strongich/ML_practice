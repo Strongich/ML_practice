{
 "cells": [
  {
   "cell_type": "code",
   "execution_count": 2,
   "metadata": {},
   "outputs": [],
   "source": [
    "from transformers import AutoTokenizer, AutoModelForTokenClassification\n",
    "from inference import run_inference"
   ]
  },
  {
   "cell_type": "code",
   "execution_count": 3,
   "metadata": {},
   "outputs": [
    {
     "name": "stderr",
     "output_type": "stream",
     "text": [
      "tokenizer_config.json: 100%|██████████| 1.26k/1.26k [00:00<00:00, 7.43MB/s]\n",
      "vocab.txt: 100%|██████████| 213k/213k [00:00<00:00, 1.03MB/s]\n",
      "tokenizer.json: 100%|██████████| 669k/669k [00:00<00:00, 1.59MB/s]\n",
      "special_tokens_map.json: 100%|██████████| 125/125 [00:00<00:00, 982kB/s]"
     ]
    },
    {
     "name": "stdout",
     "output_type": "stream",
     "text": [
      "[{'entity': 'B-Mountain', 'score': 0.8396512, 'index': 17, 'word': 'Mount', 'start': 80, 'end': 85}, {'entity': 'I-Mountain', 'score': 0.9836849, 'index': 18, 'word': 'Everest', 'start': 86, 'end': 93}]\n"
     ]
    },
    {
     "name": "stderr",
     "output_type": "stream",
     "text": [
      "\n"
     ]
    }
   ],
   "source": [
    "\n",
    "example = \"The sun dipped below the horizon, casting a warm glow upon the rugged slopes of Mount Everest.\"\n",
    "run_inference(example)"
   ]
  },
  {
   "cell_type": "code",
   "execution_count": 4,
   "metadata": {},
   "outputs": [
    {
     "name": "stdout",
     "output_type": "stream",
     "text": [
      "[]\n"
     ]
    }
   ],
   "source": [
    "example = \"This task was really cool!\"\n",
    "run_inference(example)"
   ]
  },
  {
   "cell_type": "code",
   "execution_count": 5,
   "metadata": {},
   "outputs": [
    {
     "name": "stdout",
     "output_type": "stream",
     "text": [
      "[]\n"
     ]
    }
   ],
   "source": [
    "# Space for your sentence\n",
    "example = \" \" # write here whatever you want to try!\n",
    "run_inference(example)"
   ]
  }
 ],
 "metadata": {
  "kernelspec": {
   "display_name": "quant",
   "language": "python",
   "name": "python3"
  },
  "language_info": {
   "codemirror_mode": {
    "name": "ipython",
    "version": 3
   },
   "file_extension": ".py",
   "mimetype": "text/x-python",
   "name": "python",
   "nbconvert_exporter": "python",
   "pygments_lexer": "ipython3",
   "version": "3.11.5"
  }
 },
 "nbformat": 4,
 "nbformat_minor": 2
}
